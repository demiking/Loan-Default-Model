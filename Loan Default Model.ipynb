{
  "nbformat": 4,
  "nbformat_minor": 0,
  "metadata": {
    "colab": {
      "name": "Carbon Random Forest.ipynb",
      "provenance": [],
      "collapsed_sections": []
    },
    "kernelspec": {
      "name": "python3",
      "display_name": "Python 3"
    },
    "accelerator": "GPU"
  },
  "cells": [
    {
      "cell_type": "code",
      "metadata": {
        "id": "fAT1d-y0tlxd",
        "colab_type": "code",
        "colab": {}
      },
      "source": [
        "import numpy as np\n",
        "import pandas as pd"
      ],
      "execution_count": 0,
      "outputs": []
    },
    {
      "cell_type": "code",
      "metadata": {
        "id": "r_u3DWoytw3h",
        "colab_type": "code",
        "outputId": "69643206-2072-4866-9d13-377840ca95af",
        "colab": {
          "resources": {
            "http://localhost:8080/nbextensions/google.colab/files.js": {
              "data": "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",
              "ok": true,
              "headers": [
                [
                  "content-type",
                  "application/javascript"
                ]
              ],
              "status": 200,
              "status_text": ""
            }
          },
          "base_uri": "https://localhost:8080/",
          "height": 71
        }
      },
      "source": [
        "from google.colab import files\n",
        "uploaded = files.upload()"
      ],
      "execution_count": 0,
      "outputs": [
        {
          "output_type": "display_data",
          "data": {
            "text/html": [
              "\n",
              "     <input type=\"file\" id=\"files-4ee3903a-4afe-451f-a690-837797420519\" name=\"files[]\" multiple disabled />\n",
              "     <output id=\"result-4ee3903a-4afe-451f-a690-837797420519\">\n",
              "      Upload widget is only available when the cell has been executed in the\n",
              "      current browser session. Please rerun this cell to enable.\n",
              "      </output>\n",
              "      <script src=\"/nbextensions/google.colab/files.js\"></script> "
            ],
            "text/plain": [
              "<IPython.core.display.HTML object>"
            ]
          },
          "metadata": {
            "tags": []
          }
        },
        {
          "output_type": "stream",
          "text": [
            "Saving Carbon Challenge.csv to Carbon Challenge.csv\n"
          ],
          "name": "stdout"
        }
      ]
    },
    {
      "cell_type": "code",
      "metadata": {
        "id": "HUgGRnHGt1ro",
        "colab_type": "code",
        "outputId": "653f2d2e-6a6e-4130-ec84-bcb167725c5b",
        "colab": {
          "base_uri": "https://localhost:8080/",
          "height": 71
        }
      },
      "source": [
        "import io\n",
        "file = pd.read_csv(io.BytesIO(uploaded['Carbon Challenge.csv']))"
      ],
      "execution_count": 0,
      "outputs": [
        {
          "output_type": "stream",
          "text": [
            "/usr/local/lib/python3.6/dist-packages/IPython/core/interactiveshell.py:2718: DtypeWarning: Columns (1) have mixed types. Specify dtype option on import or set low_memory=False.\n",
            "  interactivity=interactivity, compiler=compiler, result=result)\n"
          ],
          "name": "stderr"
        }
      ]
    },
    {
      "cell_type": "code",
      "metadata": {
        "id": "j3FKSE2Cwdhh",
        "colab_type": "code",
        "outputId": "e765dade-9cd4-480e-9c3b-ecdf13cbd64d",
        "colab": {
          "base_uri": "https://localhost:8080/",
          "height": 508
        }
      },
      "source": [
        "file.head()"
      ],
      "execution_count": 0,
      "outputs": [
        {
          "output_type": "execute_result",
          "data": {
            "text/html": [
              "<div>\n",
              "<style scoped>\n",
              "    .dataframe tbody tr th:only-of-type {\n",
              "        vertical-align: middle;\n",
              "    }\n",
              "\n",
              "    .dataframe tbody tr th {\n",
              "        vertical-align: top;\n",
              "    }\n",
              "\n",
              "    .dataframe thead th {\n",
              "        text-align: right;\n",
              "    }\n",
              "</style>\n",
              "<table border=\"1\" class=\"dataframe\">\n",
              "  <thead>\n",
              "    <tr style=\"text-align: right;\">\n",
              "      <th></th>\n",
              "      <th>clientIncome</th>\n",
              "      <th>incomeVerified</th>\n",
              "      <th>clientAge</th>\n",
              "      <th>clientGender</th>\n",
              "      <th>clientMaritalStatus</th>\n",
              "      <th>clientLoanPurpose</th>\n",
              "      <th>clientResidentialStauts</th>\n",
              "      <th>clientState</th>\n",
              "      <th>clientTimeAtEmployer</th>\n",
              "      <th>clientNumberPhoneContacts</th>\n",
              "      <th>...</th>\n",
              "      <th>max_tenor_taken</th>\n",
              "      <th>clientId</th>\n",
              "      <th>firstPaymentRatio</th>\n",
              "      <th>settledays</th>\n",
              "      <th>loanid</th>\n",
              "      <th>repaidDate</th>\n",
              "      <th>paidAt</th>\n",
              "      <th>firstpaymentdefault</th>\n",
              "      <th>dueDate</th>\n",
              "      <th>loandefault</th>\n",
              "    </tr>\n",
              "  </thead>\n",
              "  <tbody>\n",
              "    <tr>\n",
              "      <th>0</th>\n",
              "      <td>75000.0</td>\n",
              "      <td>true</td>\n",
              "      <td>31</td>\n",
              "      <td>FEMALE</td>\n",
              "      <td>Married</td>\n",
              "      <td>business</td>\n",
              "      <td>Rented</td>\n",
              "      <td>LAGOS</td>\n",
              "      <td>29</td>\n",
              "      <td>2637</td>\n",
              "      <td>...</td>\n",
              "      <td>1</td>\n",
              "      <td>692311451</td>\n",
              "      <td>0.0</td>\n",
              "      <td>-1</td>\n",
              "      <td>301822150850</td>\n",
              "      <td>2018-06-28 02:38:54 UTC</td>\n",
              "      <td>2018-11-29 04:41:24 UTC</td>\n",
              "      <td>0</td>\n",
              "      <td>2018-11-26 10:08:53 UTC</td>\n",
              "      <td>0</td>\n",
              "    </tr>\n",
              "    <tr>\n",
              "      <th>1</th>\n",
              "      <td>70000.0</td>\n",
              "      <td>false</td>\n",
              "      <td>36</td>\n",
              "      <td>MALE</td>\n",
              "      <td>Married</td>\n",
              "      <td>house</td>\n",
              "      <td>Own Residence</td>\n",
              "      <td>ONDO</td>\n",
              "      <td>36+</td>\n",
              "      <td>1971</td>\n",
              "      <td>...</td>\n",
              "      <td>1</td>\n",
              "      <td>43728411</td>\n",
              "      <td>0.0</td>\n",
              "      <td>29</td>\n",
              "      <td>302593679</td>\n",
              "      <td>2018-03-05 11:48:15 UTC</td>\n",
              "      <td>2018-03-30 08:52:54 UTC</td>\n",
              "      <td>1</td>\n",
              "      <td>2018-04-05 03:03:24 UTC</td>\n",
              "      <td>0</td>\n",
              "    </tr>\n",
              "    <tr>\n",
              "      <th>2</th>\n",
              "      <td>50000.0</td>\n",
              "      <td>true</td>\n",
              "      <td>44</td>\n",
              "      <td>MALE</td>\n",
              "      <td>Married</td>\n",
              "      <td>business</td>\n",
              "      <td>Own Residence</td>\n",
              "      <td>RIVERS</td>\n",
              "      <td>36+</td>\n",
              "      <td>1115</td>\n",
              "      <td>...</td>\n",
              "      <td>1</td>\n",
              "      <td>986396048</td>\n",
              "      <td>0.0</td>\n",
              "      <td>-4</td>\n",
              "      <td>301753024020</td>\n",
              "      <td>2018-06-11 05:42:05 UTC</td>\n",
              "      <td>2018-09-17 11:21:31 UTC</td>\n",
              "      <td>0</td>\n",
              "      <td>2018-11-12 12:35:00 UTC</td>\n",
              "      <td>0</td>\n",
              "    </tr>\n",
              "    <tr>\n",
              "      <th>3</th>\n",
              "      <td>35000.0</td>\n",
              "      <td>true</td>\n",
              "      <td>26</td>\n",
              "      <td>FEMALE</td>\n",
              "      <td>Single</td>\n",
              "      <td>house</td>\n",
              "      <td>Family Owned</td>\n",
              "      <td>LAGOS</td>\n",
              "      <td>29</td>\n",
              "      <td>925</td>\n",
              "      <td>...</td>\n",
              "      <td>1</td>\n",
              "      <td>284392405</td>\n",
              "      <td>0.0</td>\n",
              "      <td>-13</td>\n",
              "      <td>301719144945</td>\n",
              "      <td>2018-05-29 01:43:17 UTC</td>\n",
              "      <td>2018-10-25 05:19:37 UTC</td>\n",
              "      <td>0</td>\n",
              "      <td>2018-11-06 01:57:20 UTC</td>\n",
              "      <td>0</td>\n",
              "    </tr>\n",
              "    <tr>\n",
              "      <th>4</th>\n",
              "      <td>35000.0</td>\n",
              "      <td>false</td>\n",
              "      <td>22</td>\n",
              "      <td>MALE</td>\n",
              "      <td>Single</td>\n",
              "      <td>medical</td>\n",
              "      <td>Rented</td>\n",
              "      <td>DELTA</td>\n",
              "      <td>18</td>\n",
              "      <td>376</td>\n",
              "      <td>...</td>\n",
              "      <td>1</td>\n",
              "      <td>413934230</td>\n",
              "      <td>0.0</td>\n",
              "      <td>0</td>\n",
              "      <td>302585701</td>\n",
              "      <td>2018-02-02 07:51:06 UTC</td>\n",
              "      <td>2018-02-02 06:51:14 UTC</td>\n",
              "      <td>0</td>\n",
              "      <td>2018-03-05 10:12:23 UTC</td>\n",
              "      <td>0</td>\n",
              "    </tr>\n",
              "  </tbody>\n",
              "</table>\n",
              "<p>5 rows × 32 columns</p>\n",
              "</div>"
            ],
            "text/plain": [
              "   clientIncome incomeVerified  clientAge clientGender clientMaritalStatus  \\\n",
              "0       75000.0           true         31       FEMALE             Married   \n",
              "1       70000.0          false         36         MALE             Married   \n",
              "2       50000.0           true         44         MALE             Married   \n",
              "3       35000.0           true         26       FEMALE              Single   \n",
              "4       35000.0          false         22         MALE              Single   \n",
              "\n",
              "  clientLoanPurpose clientResidentialStauts clientState clientTimeAtEmployer  \\\n",
              "0          business                  Rented       LAGOS                   29   \n",
              "1             house           Own Residence        ONDO                  36+   \n",
              "2          business           Own Residence      RIVERS                  36+   \n",
              "3             house            Family Owned       LAGOS                   29   \n",
              "4           medical                  Rented       DELTA                   18   \n",
              "\n",
              "  clientNumberPhoneContacts     ...      max_tenor_taken   clientId  \\\n",
              "0                      2637     ...                    1  692311451   \n",
              "1                      1971     ...                    1   43728411   \n",
              "2                      1115     ...                    1  986396048   \n",
              "3                       925     ...                    1  284392405   \n",
              "4                       376     ...                    1  413934230   \n",
              "\n",
              "   firstPaymentRatio settledays        loanid               repaidDate  \\\n",
              "0                0.0         -1  301822150850  2018-06-28 02:38:54 UTC   \n",
              "1                0.0         29     302593679  2018-03-05 11:48:15 UTC   \n",
              "2                0.0         -4  301753024020  2018-06-11 05:42:05 UTC   \n",
              "3                0.0        -13  301719144945  2018-05-29 01:43:17 UTC   \n",
              "4                0.0          0     302585701  2018-02-02 07:51:06 UTC   \n",
              "\n",
              "                    paidAt firstpaymentdefault                  dueDate  \\\n",
              "0  2018-11-29 04:41:24 UTC                   0  2018-11-26 10:08:53 UTC   \n",
              "1  2018-03-30 08:52:54 UTC                   1  2018-04-05 03:03:24 UTC   \n",
              "2  2018-09-17 11:21:31 UTC                   0  2018-11-12 12:35:00 UTC   \n",
              "3  2018-10-25 05:19:37 UTC                   0  2018-11-06 01:57:20 UTC   \n",
              "4  2018-02-02 06:51:14 UTC                   0  2018-03-05 10:12:23 UTC   \n",
              "\n",
              "   loandefault  \n",
              "0            0  \n",
              "1            0  \n",
              "2            0  \n",
              "3            0  \n",
              "4            0  \n",
              "\n",
              "[5 rows x 32 columns]"
            ]
          },
          "metadata": {
            "tags": []
          },
          "execution_count": 6
        }
      ]
    },
    {
      "cell_type": "code",
      "metadata": {
        "id": "K7k_vzJpwwuJ",
        "colab_type": "code",
        "colab": {}
      },
      "source": [
        "y = file.loandefault #This is our target"
      ],
      "execution_count": 0,
      "outputs": []
    },
    {
      "cell_type": "markdown",
      "metadata": {
        "id": "smTLow6bHGyX",
        "colab_type": "text"
      },
      "source": [
        "## Columns dropped and why\n",
        "\n",
        "Target column: loandefault\n",
        "\n",
        "Data leakage (these columns won't be available when making predictions): paidAt, repaidDate, firstpaymentDefault, settledays.\n",
        "\n",
        "No variance: payment_status, loanType, declinedDate\n",
        "\n",
        "Don't add value: loanid, clientId"
      ]
    },
    {
      "cell_type": "code",
      "metadata": {
        "id": "89uGyKx3wzqo",
        "colab_type": "code",
        "colab": {}
      },
      "source": [
        "New = file.drop(['paidAt', 'settledays', 'declinedDate', 'repaidDate', 'firstpaymentdefault', 'firstPaymentRatio','loanid', 'clientId','loandefault','payout_status','loanType'], axis=1) #Drop columns that will cause data leakage as well as obvious unnecessary columns"
      ],
      "execution_count": 0,
      "outputs": []
    },
    {
      "cell_type": "markdown",
      "metadata": {
        "id": "j1H9L6l9HGGH",
        "colab_type": "text"
      },
      "source": [
        "#Check for null values in Dataframe by creating a dataframe of null values"
      ]
    },
    {
      "cell_type": "code",
      "metadata": {
        "id": "gq6lmvdiw375",
        "colab_type": "code",
        "outputId": "663cf264-2b47-4563-8e8f-cbdc92206b33",
        "colab": {
          "base_uri": "https://localhost:8080/",
          "height": 68
        }
      },
      "source": [
        "missing_df = New.isnull().sum(axis=0).reset_index()\n",
        "missing_df.columns = ['column_name', 'missing_count']\n",
        "missing_df = missing_df.loc[missing_df['missing_count']>0]\n",
        "missing_df = missing_df.sort_values(by='missing_count')\n",
        "print(missing_df)"
      ],
      "execution_count": 0,
      "outputs": [
        {
          "output_type": "stream",
          "text": [
            "Empty DataFrame\n",
            "Columns: [column_name, missing_count]\n",
            "Index: []\n"
          ],
          "name": "stdout"
        }
      ]
    },
    {
      "cell_type": "code",
      "metadata": {
        "id": "mkhQ7TzoxYpW",
        "colab_type": "code",
        "colab": {}
      },
      "source": [
        "X = New.drop(['applicationDate','approvalDate','disbursementDate','dueDate'], axis=1) #The date columns were dropped"
      ],
      "execution_count": 0,
      "outputs": []
    },
    {
      "cell_type": "markdown",
      "metadata": {
        "id": "R5r_kLr-ZKRY",
        "colab_type": "text"
      },
      "source": [
        "#Data Cleaning\n",
        "-The column 'incomeVerified' which although are in boolean format (i.e True or False) has two values for True, \"true\"  and \"True\" which will create multiple columns when one hot encoded.\n",
        "\n",
        "-The column 'clientTimeAtEmployer' has values typed as 'Null' as a string which need to be made 0, an integer while the presence of '+' makes it a string and not an integer.\n",
        "\n",
        "-The column 'clientNumberPhoneContacts' has values typed as 'Null' as a string which need to be made 0, an integer.\n",
        "\n",
        "-The column 'clientAvgCallsPerDay' has values typed as 'Null' as a string which need to be made 0, an integer."
      ]
    },
    {
      "cell_type": "code",
      "metadata": {
        "id": "ZjPSB5Z8xlB9",
        "colab_type": "code",
        "colab": {}
      },
      "source": [
        "X['incomeVerified'] = X['incomeVerified'].astype(str)"
      ],
      "execution_count": 0,
      "outputs": []
    },
    {
      "cell_type": "code",
      "metadata": {
        "id": "rI7gnJL1xnyu",
        "colab_type": "code",
        "colab": {}
      },
      "source": [
        "def plus(x):\n",
        "    return x.replace('+', '')\n",
        "\n",
        "def nval(x):\n",
        "    return x.replace('Null', '0')\n",
        "\n",
        "def T(x):\n",
        "    return x.replace('True', 'true')\n",
        "\n",
        "X['clientTimeAtEmployer'] = X['clientTimeAtEmployer'].apply(plus)\n",
        "\n",
        "X['clientTimeAtEmployer'] = X['clientTimeAtEmployer'].apply(nval)\n",
        "X['clientNumberPhoneContacts'] = X['clientNumberPhoneContacts'].apply(nval)\n",
        "X['clientAvgCallsPerDay'] = X['clientAvgCallsPerDay'].apply(nval)\n",
        "X['incomeVerified'] = X['incomeVerified'].apply(T)\n",
        "\n",
        "X['clientNumberPhoneContacts'] = X['clientNumberPhoneContacts'].astype(int)\n",
        "X['clientTimeAtEmployer'] = X['clientTimeAtEmployer'].astype(int)\n",
        "X['clientAvgCallsPerDay'] = X['clientAvgCallsPerDay'].astype(float)\n",
        "X['incomeVerified'] = X['incomeVerified'].astype(bool)"
      ],
      "execution_count": 0,
      "outputs": []
    },
    {
      "cell_type": "code",
      "metadata": {
        "id": "_Zo_NgtSxqbP",
        "colab_type": "code",
        "outputId": "5e7f1f08-f9f5-4ff7-d265-b818b486a1e8",
        "colab": {
          "base_uri": "https://localhost:8080/",
          "height": 119
        }
      },
      "source": [
        "X.columns"
      ],
      "execution_count": 0,
      "outputs": [
        {
          "output_type": "execute_result",
          "data": {
            "text/plain": [
              "Index(['clientIncome', 'incomeVerified', 'clientAge', 'clientGender',\n",
              "       'clientMaritalStatus', 'clientLoanPurpose', 'clientResidentialStauts',\n",
              "       'clientState', 'clientTimeAtEmployer', 'clientNumberPhoneContacts',\n",
              "       'clientAvgCallsPerDay', 'loanNumber', 'loanAmount', 'interestRate',\n",
              "       'loanTerm', 'max_amount_taken', 'max_tenor_taken'],\n",
              "      dtype='object')"
            ]
          },
          "metadata": {
            "tags": []
          },
          "execution_count": 13
        }
      ]
    },
    {
      "cell_type": "code",
      "metadata": {
        "id": "PCEWbO8_xuKH",
        "colab_type": "code",
        "colab": {}
      },
      "source": [
        "x = pd.get_dummies(X, prefix_sep= '_', drop_first=True) #Convert all categorical variables to numerical columns of 1s and 0s"
      ],
      "execution_count": 0,
      "outputs": []
    },
    {
      "cell_type": "code",
      "metadata": {
        "id": "rtNXUeAZxwpH",
        "colab_type": "code",
        "outputId": "f41f9b01-d06a-4834-c964-5e569e7cc734",
        "colab": {
          "base_uri": "https://localhost:8080/",
          "height": 253
        }
      },
      "source": [
        "x.head()"
      ],
      "execution_count": 0,
      "outputs": [
        {
          "output_type": "execute_result",
          "data": {
            "text/html": [
              "<div>\n",
              "<style scoped>\n",
              "    .dataframe tbody tr th:only-of-type {\n",
              "        vertical-align: middle;\n",
              "    }\n",
              "\n",
              "    .dataframe tbody tr th {\n",
              "        vertical-align: top;\n",
              "    }\n",
              "\n",
              "    .dataframe thead th {\n",
              "        text-align: right;\n",
              "    }\n",
              "</style>\n",
              "<table border=\"1\" class=\"dataframe\">\n",
              "  <thead>\n",
              "    <tr style=\"text-align: right;\">\n",
              "      <th></th>\n",
              "      <th>clientIncome</th>\n",
              "      <th>incomeVerified</th>\n",
              "      <th>clientAge</th>\n",
              "      <th>clientTimeAtEmployer</th>\n",
              "      <th>clientNumberPhoneContacts</th>\n",
              "      <th>clientAvgCallsPerDay</th>\n",
              "      <th>loanNumber</th>\n",
              "      <th>loanAmount</th>\n",
              "      <th>interestRate</th>\n",
              "      <th>loanTerm</th>\n",
              "      <th>...</th>\n",
              "      <th>clientState_OJO</th>\n",
              "      <th>clientState_ONDO</th>\n",
              "      <th>clientState_OSUN</th>\n",
              "      <th>clientState_OYO</th>\n",
              "      <th>clientState_PLATEAU</th>\n",
              "      <th>clientState_RIVERS</th>\n",
              "      <th>clientState_SOKOTO</th>\n",
              "      <th>clientState_TARABA</th>\n",
              "      <th>clientState_YOBE</th>\n",
              "      <th>clientState_ZAMFARA</th>\n",
              "    </tr>\n",
              "  </thead>\n",
              "  <tbody>\n",
              "    <tr>\n",
              "      <th>0</th>\n",
              "      <td>75000.0</td>\n",
              "      <td>True</td>\n",
              "      <td>31</td>\n",
              "      <td>29</td>\n",
              "      <td>2637</td>\n",
              "      <td>33.289902</td>\n",
              "      <td>2</td>\n",
              "      <td>46000</td>\n",
              "      <td>5.0</td>\n",
              "      <td>180</td>\n",
              "      <td>...</td>\n",
              "      <td>0</td>\n",
              "      <td>0</td>\n",
              "      <td>0</td>\n",
              "      <td>0</td>\n",
              "      <td>0</td>\n",
              "      <td>0</td>\n",
              "      <td>0</td>\n",
              "      <td>0</td>\n",
              "      <td>0</td>\n",
              "      <td>0</td>\n",
              "    </tr>\n",
              "    <tr>\n",
              "      <th>1</th>\n",
              "      <td>70000.0</td>\n",
              "      <td>True</td>\n",
              "      <td>36</td>\n",
              "      <td>36</td>\n",
              "      <td>1971</td>\n",
              "      <td>53.680000</td>\n",
              "      <td>11</td>\n",
              "      <td>58500</td>\n",
              "      <td>10.0</td>\n",
              "      <td>90</td>\n",
              "      <td>...</td>\n",
              "      <td>0</td>\n",
              "      <td>1</td>\n",
              "      <td>0</td>\n",
              "      <td>0</td>\n",
              "      <td>0</td>\n",
              "      <td>0</td>\n",
              "      <td>0</td>\n",
              "      <td>0</td>\n",
              "      <td>0</td>\n",
              "      <td>0</td>\n",
              "    </tr>\n",
              "    <tr>\n",
              "      <th>2</th>\n",
              "      <td>50000.0</td>\n",
              "      <td>True</td>\n",
              "      <td>44</td>\n",
              "      <td>36</td>\n",
              "      <td>1115</td>\n",
              "      <td>48.666667</td>\n",
              "      <td>6</td>\n",
              "      <td>70000</td>\n",
              "      <td>5.0</td>\n",
              "      <td>180</td>\n",
              "      <td>...</td>\n",
              "      <td>0</td>\n",
              "      <td>0</td>\n",
              "      <td>0</td>\n",
              "      <td>0</td>\n",
              "      <td>0</td>\n",
              "      <td>1</td>\n",
              "      <td>0</td>\n",
              "      <td>0</td>\n",
              "      <td>0</td>\n",
              "      <td>0</td>\n",
              "    </tr>\n",
              "    <tr>\n",
              "      <th>3</th>\n",
              "      <td>35000.0</td>\n",
              "      <td>True</td>\n",
              "      <td>26</td>\n",
              "      <td>29</td>\n",
              "      <td>925</td>\n",
              "      <td>44.062937</td>\n",
              "      <td>3</td>\n",
              "      <td>33500</td>\n",
              "      <td>7.5</td>\n",
              "      <td>180</td>\n",
              "      <td>...</td>\n",
              "      <td>0</td>\n",
              "      <td>0</td>\n",
              "      <td>0</td>\n",
              "      <td>0</td>\n",
              "      <td>0</td>\n",
              "      <td>0</td>\n",
              "      <td>0</td>\n",
              "      <td>0</td>\n",
              "      <td>0</td>\n",
              "      <td>0</td>\n",
              "    </tr>\n",
              "    <tr>\n",
              "      <th>4</th>\n",
              "      <td>35000.0</td>\n",
              "      <td>True</td>\n",
              "      <td>22</td>\n",
              "      <td>18</td>\n",
              "      <td>376</td>\n",
              "      <td>49.054545</td>\n",
              "      <td>3</td>\n",
              "      <td>13000</td>\n",
              "      <td>20.0</td>\n",
              "      <td>60</td>\n",
              "      <td>...</td>\n",
              "      <td>0</td>\n",
              "      <td>0</td>\n",
              "      <td>0</td>\n",
              "      <td>0</td>\n",
              "      <td>0</td>\n",
              "      <td>0</td>\n",
              "      <td>0</td>\n",
              "      <td>0</td>\n",
              "      <td>0</td>\n",
              "      <td>0</td>\n",
              "    </tr>\n",
              "  </tbody>\n",
              "</table>\n",
              "<p>5 rows × 66 columns</p>\n",
              "</div>"
            ],
            "text/plain": [
              "   clientIncome  incomeVerified  clientAge  clientTimeAtEmployer  \\\n",
              "0       75000.0            True         31                    29   \n",
              "1       70000.0            True         36                    36   \n",
              "2       50000.0            True         44                    36   \n",
              "3       35000.0            True         26                    29   \n",
              "4       35000.0            True         22                    18   \n",
              "\n",
              "   clientNumberPhoneContacts  clientAvgCallsPerDay  loanNumber  loanAmount  \\\n",
              "0                       2637             33.289902           2       46000   \n",
              "1                       1971             53.680000          11       58500   \n",
              "2                       1115             48.666667           6       70000   \n",
              "3                        925             44.062937           3       33500   \n",
              "4                        376             49.054545           3       13000   \n",
              "\n",
              "   interestRate  loanTerm         ...           clientState_OJO  \\\n",
              "0           5.0       180         ...                         0   \n",
              "1          10.0        90         ...                         0   \n",
              "2           5.0       180         ...                         0   \n",
              "3           7.5       180         ...                         0   \n",
              "4          20.0        60         ...                         0   \n",
              "\n",
              "   clientState_ONDO  clientState_OSUN  clientState_OYO  clientState_PLATEAU  \\\n",
              "0                 0                 0                0                    0   \n",
              "1                 1                 0                0                    0   \n",
              "2                 0                 0                0                    0   \n",
              "3                 0                 0                0                    0   \n",
              "4                 0                 0                0                    0   \n",
              "\n",
              "   clientState_RIVERS  clientState_SOKOTO  clientState_TARABA  \\\n",
              "0                   0                   0                   0   \n",
              "1                   0                   0                   0   \n",
              "2                   1                   0                   0   \n",
              "3                   0                   0                   0   \n",
              "4                   0                   0                   0   \n",
              "\n",
              "   clientState_YOBE  clientState_ZAMFARA  \n",
              "0                 0                    0  \n",
              "1                 0                    0  \n",
              "2                 0                    0  \n",
              "3                 0                    0  \n",
              "4                 0                    0  \n",
              "\n",
              "[5 rows x 66 columns]"
            ]
          },
          "metadata": {
            "tags": []
          },
          "execution_count": 15
        }
      ]
    },
    {
      "cell_type": "code",
      "metadata": {
        "id": "ZO4t9nlqakXs",
        "colab_type": "code",
        "outputId": "c47ad768-84e6-466c-f23a-6bb65d5db55a",
        "colab": {
          "base_uri": "https://localhost:8080/",
          "height": 1071
        }
      },
      "source": [
        "df1 = pd.concat([x,y], axis=1) #To view the correlation between each one hot encoded feature and the target\n",
        "corr_matrix = df1.corr()\n",
        "\n",
        "corr_matrix[\"loandefault\"].sort_values(ascending=False)"
      ],
      "execution_count": 0,
      "outputs": [
        {
          "output_type": "execute_result",
          "data": {
            "text/plain": [
              "loandefault                                1.000000\n",
              "max_tenor_taken                            0.104337\n",
              "max_amount_taken                           0.101376\n",
              "interestRate                               0.078994\n",
              "clientState_NIGER                          0.030058\n",
              "clientState_OYO                            0.028913\n",
              "clientGender_MALE                          0.026373\n",
              "clientMaritalStatus_Single                 0.024189\n",
              "clientState_OSUN                           0.021064\n",
              "clientState_KWARA                          0.020892\n",
              "clientState_KOGI                           0.019865\n",
              "clientState_EKITI                          0.018708\n",
              "clientState_ONDO                           0.013147\n",
              "clientResidentialStauts_Own Residence      0.010719\n",
              "clientState_OGUN                           0.010622\n",
              "loanTerm                                   0.009220\n",
              "clientLoanPurpose_medical                  0.008834\n",
              "clientState_BENUE                          0.007968\n",
              "clientState_BAYELSA                        0.007647\n",
              "clientState_ANAMBRA                        0.005928\n",
              "clientState_EBONYI                         0.005148\n",
              "clientState_IMO                            0.004666\n",
              "clientState_OJO                            0.004039\n",
              "clientState_ENUGU                          0.003889\n",
              "clientState_KATSINA                        0.003614\n",
              "clientResidentialStauts_Rented             0.002528\n",
              "clientState_SOKOTO                         0.001556\n",
              "clientState_NASARAWA                       0.000988\n",
              "clientMaritalStatus_Null                   0.000764\n",
              "clientResidentialStauts_Temp. Residence    0.000694\n",
              "                                             ...   \n",
              "clientState_GOMBE                         -0.001906\n",
              "clientState_EDO                           -0.002190\n",
              "clientState_RIVERS                        -0.002446\n",
              "clientState_KADUNA                        -0.002508\n",
              "clientState_JIGAWA                        -0.003283\n",
              "clientState_ADAMAWA                       -0.003501\n",
              "clientState_AKWA IBOM                     -0.003551\n",
              "clientResidentialStauts_Family Owned      -0.003905\n",
              "clientState_BORNO                         -0.003968\n",
              "clientState_DELTA                         -0.003994\n",
              "clientState_BAUCHI                        -0.004108\n",
              "clientState_PLATEAU                       -0.004744\n",
              "clientMaritalStatus_Widowed               -0.005049\n",
              "clientTimeAtEmployer                      -0.005192\n",
              "clientMaritalStatus_Separated             -0.005196\n",
              "clientState_KEBBI                         -0.007178\n",
              "clientState_KANO                          -0.008021\n",
              "clientLoanPurpose_education               -0.017011\n",
              "loanAmount                                -0.017414\n",
              "clientMaritalStatus_Married               -0.022256\n",
              "clientState_ABUJA                         -0.024540\n",
              "clientAvgCallsPerDay                      -0.027595\n",
              "clientNumberPhoneContacts                 -0.028616\n",
              "clientIncome                              -0.035171\n",
              "clientState_LAGOS                         -0.039677\n",
              "clientLoanPurpose_house                   -0.039928\n",
              "clientAge                                 -0.048051\n",
              "clientLoanPurpose_other                   -0.049893\n",
              "loanNumber                                -0.080565\n",
              "incomeVerified                                  NaN\n",
              "Name: loandefault, Length: 67, dtype: float64"
            ]
          },
          "metadata": {
            "tags": []
          },
          "execution_count": 16
        }
      ]
    },
    {
      "cell_type": "code",
      "metadata": {
        "id": "57UJ8iJDax7N",
        "colab_type": "code",
        "colab": {}
      },
      "source": [
        "from sklearn.ensemble import RandomForestClassifier"
      ],
      "execution_count": 0,
      "outputs": []
    },
    {
      "cell_type": "code",
      "metadata": {
        "id": "opFU_Ly_a6vR",
        "colab_type": "code",
        "colab": {}
      },
      "source": [
        "from sklearn.model_selection import train_test_split"
      ],
      "execution_count": 0,
      "outputs": []
    },
    {
      "cell_type": "code",
      "metadata": {
        "id": "NWOgEUBfa83h",
        "colab_type": "code",
        "colab": {}
      },
      "source": [
        "X_train, X_test, y_train, y_test = train_test_split(x, y, test_size=0.3, random_state=5)"
      ],
      "execution_count": 0,
      "outputs": []
    },
    {
      "cell_type": "code",
      "metadata": {
        "id": "6c0an3hCa-qY",
        "colab_type": "code",
        "colab": {}
      },
      "source": [
        "clf = RandomForestClassifier(random_state=5)"
      ],
      "execution_count": 0,
      "outputs": []
    },
    {
      "cell_type": "markdown",
      "metadata": {
        "id": "SqqscUxyMwV-",
        "colab_type": "text"
      },
      "source": [
        "#To get the best RF Classifier, the RandomizedSearchCV is used"
      ]
    },
    {
      "cell_type": "code",
      "metadata": {
        "id": "PD4h0YLjbBGp",
        "colab_type": "code",
        "outputId": "a198f7ba-1bfd-47e4-f69f-c9005e8f5ad1",
        "colab": {
          "base_uri": "https://localhost:8080/",
          "height": 340
        }
      },
      "source": [
        "from pprint import pprint\n",
        "# Look at parameters used by our current forest\n",
        "print('Parameters currently in use:\\n')\n",
        "pprint(clf.get_params())"
      ],
      "execution_count": 0,
      "outputs": [
        {
          "output_type": "stream",
          "text": [
            "Parameters currently in use:\n",
            "\n",
            "{'bootstrap': True,\n",
            " 'class_weight': None,\n",
            " 'criterion': 'gini',\n",
            " 'max_depth': None,\n",
            " 'max_features': 'auto',\n",
            " 'max_leaf_nodes': None,\n",
            " 'min_impurity_decrease': 0.0,\n",
            " 'min_impurity_split': None,\n",
            " 'min_samples_leaf': 1,\n",
            " 'min_samples_split': 2,\n",
            " 'min_weight_fraction_leaf': 0.0,\n",
            " 'n_estimators': 'warn',\n",
            " 'n_jobs': None,\n",
            " 'oob_score': False,\n",
            " 'random_state': 5,\n",
            " 'verbose': 0,\n",
            " 'warm_start': False}\n"
          ],
          "name": "stdout"
        }
      ]
    },
    {
      "cell_type": "code",
      "metadata": {
        "id": "sfBxdHsbbEGp",
        "colab_type": "code",
        "outputId": "e9f66c38-2da8-4751-9ec4-9c74493d2592",
        "colab": {
          "base_uri": "https://localhost:8080/",
          "height": 119
        }
      },
      "source": [
        "from sklearn.model_selection import RandomizedSearchCV\n",
        "# Number of trees in random forest\n",
        "n_estimators = [int(x) for x in np.linspace(start = 200, stop = 2000, num = 10)]\n",
        "# Number of features to consider at every split\n",
        "max_features = ['auto', 'sqrt']\n",
        "# Maximum number of levels in tree\n",
        "max_depth = [int(x) for x in np.linspace(10, 110, num = 11)]\n",
        "max_depth.append(None)\n",
        "# Minimum number of samples required to split a node\n",
        "min_samples_split = [2, 5, 10]\n",
        "# Minimum number of samples required at each leaf node\n",
        "min_samples_leaf = [1, 2, 4]\n",
        "# Method of selecting samples for training each tree\n",
        "bootstrap = [True, False]\n",
        "# Create the random grid\n",
        "random_grid = {'n_estimators': n_estimators,\n",
        "               'max_features': max_features,\n",
        "               'max_depth': max_depth,\n",
        "               'min_samples_split': min_samples_split,\n",
        "               'min_samples_leaf': min_samples_leaf,\n",
        "               'bootstrap': bootstrap}\n",
        "pprint(random_grid)\n"
      ],
      "execution_count": 0,
      "outputs": [
        {
          "output_type": "stream",
          "text": [
            "{'bootstrap': [True, False],\n",
            " 'max_depth': [10, 20, 30, 40, 50, 60, 70, 80, 90, 100, 110, None],\n",
            " 'max_features': ['auto', 'sqrt'],\n",
            " 'min_samples_leaf': [1, 2, 4],\n",
            " 'min_samples_split': [2, 5, 10],\n",
            " 'n_estimators': [200, 400, 600, 800, 1000, 1200, 1400, 1600, 1800, 2000]}\n"
          ],
          "name": "stdout"
        }
      ]
    },
    {
      "cell_type": "code",
      "metadata": {
        "id": "ae7yjGe7bHxJ",
        "colab_type": "code",
        "outputId": "76f06062-5148-462c-bf53-fb57f31cfe27",
        "colab": {
          "base_uri": "https://localhost:8080/",
          "height": 309
        }
      },
      "source": [
        "clf_random = RandomizedSearchCV(estimator = clf, param_distributions = random_grid, n_iter = 3, cv = 3, verbose=2, random_state=5, n_jobs = -1)\n",
        "# Fit the random search model\n",
        "clf_random.fit(X_train,y_train)"
      ],
      "execution_count": 0,
      "outputs": [
        {
          "output_type": "stream",
          "text": [
            "Fitting 3 folds for each of 3 candidates, totalling 9 fits\n"
          ],
          "name": "stdout"
        },
        {
          "output_type": "stream",
          "text": [
            "[Parallel(n_jobs=-1)]: Using backend LokyBackend with 2 concurrent workers.\n",
            "/usr/local/lib/python3.6/dist-packages/sklearn/externals/joblib/externals/loky/process_executor.py:706: UserWarning: A worker stopped while some jobs were given to the executor. This can be caused by a too short worker timeout or by a memory leak.\n",
            "  \"timeout or by a memory leak.\", UserWarning\n",
            "[Parallel(n_jobs=-1)]: Done   9 out of   9 | elapsed: 44.3min finished\n"
          ],
          "name": "stderr"
        },
        {
          "output_type": "execute_result",
          "data": {
            "text/plain": [
              "RandomizedSearchCV(cv=3, error_score='raise-deprecating',\n",
              "          estimator=RandomForestClassifier(bootstrap=True, class_weight=None, criterion='gini',\n",
              "            max_depth=None, max_features='auto', max_leaf_nodes=None,\n",
              "            min_impurity_decrease=0.0, min_impurity_split=None,\n",
              "            min_samples_leaf=1, min_samples_split=2,\n",
              "            min_weight_fraction_leaf=0.0, n_estimators='warn', n_jobs=None,\n",
              "            oob_score=False, random_state=5, verbose=0, warm_start=False),\n",
              "          fit_params=None, iid='warn', n_iter=3, n_jobs=-1,\n",
              "          param_distributions={'n_estimators': [200, 400, 600, 800, 1000, 1200, 1400, 1600, 1800, 2000], 'max_features': ['auto', 'sqrt'], 'max_depth': [10, 20, 30, 40, 50, 60, 70, 80, 90, 100, 110, None], 'min_samples_split': [2, 5, 10], 'min_samples_leaf': [1, 2, 4], 'bootstrap': [True, False]},\n",
              "          pre_dispatch='2*n_jobs', random_state=5, refit=True,\n",
              "          return_train_score='warn', scoring=None, verbose=2)"
            ]
          },
          "metadata": {
            "tags": []
          },
          "execution_count": 23
        }
      ]
    },
    {
      "cell_type": "code",
      "metadata": {
        "id": "sr0Hv8rVbMqZ",
        "colab_type": "code",
        "outputId": "49b3d5d9-8021-4014-9ed8-20fea9d191c8",
        "colab": {
          "base_uri": "https://localhost:8080/",
          "height": 119
        }
      },
      "source": [
        "clf_random.best_params_"
      ],
      "execution_count": 0,
      "outputs": [
        {
          "output_type": "execute_result",
          "data": {
            "text/plain": [
              "{'bootstrap': False,\n",
              " 'max_depth': 10,\n",
              " 'max_features': 'sqrt',\n",
              " 'min_samples_leaf': 1,\n",
              " 'min_samples_split': 2,\n",
              " 'n_estimators': 1000}"
            ]
          },
          "metadata": {
            "tags": []
          },
          "execution_count": 24
        }
      ]
    },
    {
      "cell_type": "markdown",
      "metadata": {
        "id": "qK7OxajoMPGP",
        "colab_type": "text"
      },
      "source": [
        "##Create a RF Classifier\n",
        "\n",
        "This classifier is created using the parameters given to us by the Randomised Search CV step"
      ]
    },
    {
      "cell_type": "code",
      "metadata": {
        "id": "cXaDOwFPbPYi",
        "colab_type": "code",
        "colab": {}
      },
      "source": [
        "clf_best = RandomForestClassifier(bootstrap = False,\n",
        " max_depth = 10,\n",
        " max_features = 'sqrt',\n",
        " min_samples_leaf = 1,\n",
        " min_samples_split = 2,\n",
        " n_estimators= 1000, random_state =5)"
      ],
      "execution_count": 0,
      "outputs": []
    },
    {
      "cell_type": "code",
      "metadata": {
        "id": "XoDr3NoiIrqe",
        "colab_type": "code",
        "outputId": "5a7f7159-6232-4832-946e-9cbcd6aa16ac",
        "colab": {
          "base_uri": "https://localhost:8080/",
          "height": 119
        }
      },
      "source": [
        "clf_best.fit(X_train, y_train)"
      ],
      "execution_count": 0,
      "outputs": [
        {
          "output_type": "execute_result",
          "data": {
            "text/plain": [
              "RandomForestClassifier(bootstrap=False, class_weight=None, criterion='gini',\n",
              "            max_depth=10, max_features='sqrt', max_leaf_nodes=None,\n",
              "            min_impurity_decrease=0.0, min_impurity_split=None,\n",
              "            min_samples_leaf=1, min_samples_split=2,\n",
              "            min_weight_fraction_leaf=0.0, n_estimators=1000, n_jobs=None,\n",
              "            oob_score=False, random_state=5, verbose=0, warm_start=False)"
            ]
          },
          "metadata": {
            "tags": []
          },
          "execution_count": 26
        }
      ]
    },
    {
      "cell_type": "code",
      "metadata": {
        "id": "7A5EOHUxJf0a",
        "colab_type": "code",
        "colab": {}
      },
      "source": [
        "from sklearn.metrics import classification_report\n",
        "from sklearn.metrics import accuracy_score"
      ],
      "execution_count": 0,
      "outputs": []
    },
    {
      "cell_type": "code",
      "metadata": {
        "id": "eo11VsKWLZ4M",
        "colab_type": "code",
        "colab": {}
      },
      "source": [
        "predictions = clf_best.predict(X_test)"
      ],
      "execution_count": 0,
      "outputs": []
    },
    {
      "cell_type": "code",
      "metadata": {
        "id": "TvrL2_b3LdXq",
        "colab_type": "code",
        "outputId": "2ae5f432-8bc1-4ce9-c88e-cfc3c1143696",
        "colab": {
          "base_uri": "https://localhost:8080/",
          "height": 170
        }
      },
      "source": [
        "print(classification_report(y_test,predictions))"
      ],
      "execution_count": 0,
      "outputs": [
        {
          "output_type": "stream",
          "text": [
            "              precision    recall  f1-score   support\n",
            "\n",
            "           0       0.72      1.00      0.84     34581\n",
            "           1       0.92      0.01      0.01     13298\n",
            "\n",
            "   micro avg       0.72      0.72      0.72     47879\n",
            "   macro avg       0.82      0.50      0.42     47879\n",
            "weighted avg       0.78      0.72      0.61     47879\n",
            "\n"
          ],
          "name": "stdout"
        }
      ]
    },
    {
      "cell_type": "markdown",
      "metadata": {
        "id": "U7HN5roePPKn",
        "colab_type": "text"
      },
      "source": [
        "##Balancing Classes\n",
        "As can be seen, the recall for Class 1 (i.e loan defaulters is low). This is a problem especially as this is our target variable and we want to increase the number of defaulters we find.\n",
        "The problem in this system is an imbalanced dataset as class one is about 27.7% of the dataset. To fix this, we will balance it using RandomUnderSampler"
      ]
    },
    {
      "cell_type": "code",
      "metadata": {
        "id": "EdkM75KYLrFT",
        "colab_type": "code",
        "outputId": "b241bfc4-e6d8-4b96-f712-f5b5beb3dec7",
        "colab": {
          "base_uri": "https://localhost:8080/",
          "height": 329
        }
      },
      "source": [
        "target_count = y.value_counts()\n",
        "print('Class 0:', target_count[0])\n",
        "print('Class 1:', target_count[1])\n",
        "print('Proportion:', round(target_count[0] / target_count[1], 2), ': 1') \n",
        "\n",
        "target_count.plot(kind='bar', title='Count (target)'); #EDA to show the proportion of Class 0 to Class 1"
      ],
      "execution_count": 0,
      "outputs": [
        {
          "output_type": "stream",
          "text": [
            "Class 0: 115304\n",
            "Class 1: 44292\n",
            "Proportion: 2.6 : 1\n"
          ],
          "name": "stdout"
        },
        {
          "output_type": "display_data",
          "data": {
            "image/png": "[encoded data removed]",
            "text/plain": [
              "<Figure size 432x288 with 1 Axes>"
            ]
          },
          "metadata": {
            "tags": []
          }
        }
      ]
    },
    {
      "cell_type": "code",
      "metadata": {
        "id": "lhyk_6u8PLoy",
        "colab_type": "code",
        "colab": {}
      },
      "source": [
        "import imblearn #Importing imbalanced learn module\n",
        "import matplotlib.pyplot as plt"
      ],
      "execution_count": 0,
      "outputs": []
    },
    {
      "cell_type": "code",
      "metadata": {
        "id": "VMzJ5xxVQrYS",
        "colab_type": "code",
        "colab": {}
      },
      "source": [
        "\n",
        "def plot_2d_space(X, y, label='Classes'):   \n",
        "    colors = ['#1F77B4', '#FF7F0E']\n",
        "    markers = ['o', 's']\n",
        "    for l, c, m in zip(np.unique(y), colors, markers):\n",
        "        plt.scatter(\n",
        "            X[y==l, 0],\n",
        "            X[y==l, 1],\n",
        "            c=c, label=l, marker=m\n",
        "        )\n",
        "    plt.title(label)\n",
        "    plt.legend(loc='upper right')\n",
        "    plt.show()"
      ],
      "execution_count": 0,
      "outputs": []
    },
    {
      "cell_type": "markdown",
      "metadata": {
        "id": "RRSBuuUmWNxu",
        "colab_type": "text"
      },
      "source": [
        "###To show the effect of the Random Under Sampling, the before and after graphs are plotted.\n",
        "\n",
        "Since the dataset has many dimensions (features) and  graphs will be 2D, we will reduce the size of the dataset using Principal Component Analysis (PCA)"
      ]
    },
    {
      "cell_type": "code",
      "metadata": {
        "id": "SvWUTkuySB6a",
        "colab_type": "code",
        "outputId": "2eab6727-2180-4e0a-a089-5deabeb54bc2",
        "colab": {
          "base_uri": "https://localhost:8080/",
          "height": 281
        }
      },
      "source": [
        "from sklearn.decomposition import PCA \n",
        "\n",
        "pca = PCA(n_components=2)\n",
        "L = pca.fit_transform(x)\n",
        "\n",
        "plot_2d_space(L, y, 'Imbalanced dataset (2 PCA components)')"
      ],
      "execution_count": 0,
      "outputs": [
        {
          "output_type": "display_data",
          "data": {
            "image/png": "[encoded data removed]",
            "text/plain": [
              "<Figure size 432x288 with 1 Axes>"
            ]
          },
          "metadata": {
            "tags": []
          }
        }
      ]
    },
    {
      "cell_type": "code",
      "metadata": {
        "id": "I8yefmmSST_2",
        "colab_type": "code",
        "outputId": "eb39daa5-3254-45dc-eb4e-7c908c2fa02d",
        "colab": {
          "base_uri": "https://localhost:8080/",
          "height": 298
        }
      },
      "source": [
        "from imblearn.under_sampling import RandomUnderSampler\n",
        "\n",
        "rus = RandomUnderSampler(return_indices=True)\n",
        "X_rus, y_rus, id_rus = rus.fit_sample(x, y)\n",
        "\n",
        "print('Removed indexes:', id_rus)\n",
        "\n",
        "plot_2d_space(X_rus, y_rus, 'Random under-sampling')"
      ],
      "execution_count": 0,
      "outputs": [
        {
          "output_type": "stream",
          "text": [
            "Removed indexes: [ 65983    601 134042 ... 159588 159589 159591]\n"
          ],
          "name": "stdout"
        },
        {
          "output_type": "display_data",
          "data": {
            "image/png": "[encoded data removed]",
            "text/plain": [
              "<Figure size 432x288 with 1 Axes>"
            ]
          },
          "metadata": {
            "tags": []
          }
        }
      ]
    },
    {
      "cell_type": "markdown",
      "metadata": {
        "id": "qgpD4JtPTFVc",
        "colab_type": "text"
      },
      "source": [
        "#Applying the model to new features\n",
        "\n",
        "Now that the dataset has been balanced, the model can be tested"
      ]
    },
    {
      "cell_type": "code",
      "metadata": {
        "id": "TbeGnuDNS0hx",
        "colab_type": "code",
        "colab": {}
      },
      "source": [
        "X_train1, X_test1, y_train1, y_test1 = train_test_split(X_rus, y_rus, test_size=0.3, random_state=5)"
      ],
      "execution_count": 0,
      "outputs": []
    },
    {
      "cell_type": "code",
      "metadata": {
        "id": "H51Ec4bCTSY_",
        "colab_type": "code",
        "outputId": "3c414b22-3560-4de4-f6c4-992779a2b281",
        "colab": {
          "base_uri": "https://localhost:8080/",
          "height": 119
        }
      },
      "source": [
        "clf_best.fit(X_train1, y_train1)"
      ],
      "execution_count": 0,
      "outputs": [
        {
          "output_type": "execute_result",
          "data": {
            "text/plain": [
              "RandomForestClassifier(bootstrap=False, class_weight=None, criterion='gini',\n",
              "            max_depth=10, max_features='sqrt', max_leaf_nodes=None,\n",
              "            min_impurity_decrease=0.0, min_impurity_split=None,\n",
              "            min_samples_leaf=1, min_samples_split=2,\n",
              "            min_weight_fraction_leaf=0.0, n_estimators=1000, n_jobs=None,\n",
              "            oob_score=False, random_state=5, verbose=0, warm_start=False)"
            ]
          },
          "metadata": {
            "tags": []
          },
          "execution_count": 36
        }
      ]
    },
    {
      "cell_type": "code",
      "metadata": {
        "id": "axEHsprCUJ6W",
        "colab_type": "code",
        "colab": {}
      },
      "source": [
        "pred = clf_best.predict(X_test1)"
      ],
      "execution_count": 0,
      "outputs": []
    },
    {
      "cell_type": "code",
      "metadata": {
        "id": "L-ltK1iRUOK-",
        "colab_type": "code",
        "outputId": "25c7b8ff-38f0-43e0-8851-ed859e997089",
        "colab": {
          "base_uri": "https://localhost:8080/",
          "height": 170
        }
      },
      "source": [
        "print(classification_report(y_test1,pred))"
      ],
      "execution_count": 0,
      "outputs": [
        {
          "output_type": "stream",
          "text": [
            "              precision    recall  f1-score   support\n",
            "\n",
            "           0       0.60      0.52      0.56     13311\n",
            "           1       0.58      0.65      0.61     13265\n",
            "\n",
            "   micro avg       0.59      0.59      0.59     26576\n",
            "   macro avg       0.59      0.59      0.59     26576\n",
            "weighted avg       0.59      0.59      0.59     26576\n",
            "\n"
          ],
          "name": "stdout"
        }
      ]
    },
    {
      "cell_type": "markdown",
      "metadata": {
        "id": "oI03ezto04m0",
        "colab_type": "text"
      },
      "source": [
        "#Building the Second and Final Model\n",
        "\n",
        "Apply PCA and Random Under Sampling to the features"
      ]
    },
    {
      "cell_type": "code",
      "metadata": {
        "id": "IXqJmNzfUTiV",
        "colab_type": "code",
        "colab": {}
      },
      "source": [
        "# create pca\n",
        "Pca = PCA(n_components=5)"
      ],
      "execution_count": 0,
      "outputs": []
    },
    {
      "cell_type": "code",
      "metadata": {
        "id": "rXRlO9uI1fhf",
        "colab_type": "code",
        "colab": {}
      },
      "source": [
        "# fit the data to the model\n",
        "principalComponents = Pca.fit_transform(x)"
      ],
      "execution_count": 0,
      "outputs": []
    },
    {
      "cell_type": "code",
      "metadata": {
        "id": "b8mpKwZU1nkV",
        "colab_type": "code",
        "colab": {}
      },
      "source": [
        "# create dataframe containing principal components\n",
        "df = pd.DataFrame(data = principalComponents, columns = ['principal component 1', 'principal component 2','principal component 3','principal component 4','principal component 5'])"
      ],
      "execution_count": 0,
      "outputs": []
    },
    {
      "cell_type": "code",
      "metadata": {
        "id": "T65KaM5J17xT",
        "colab_type": "code",
        "outputId": "5da5b781-fd3f-404a-ca48-0d17ee0cb7ac",
        "colab": {
          "base_uri": "https://localhost:8080/",
          "height": 204
        }
      },
      "source": [
        "# display principal components\n",
        "df.head()"
      ],
      "execution_count": 0,
      "outputs": [
        {
          "output_type": "execute_result",
          "data": {
            "text/html": [
              "<div>\n",
              "<style scoped>\n",
              "    .dataframe tbody tr th:only-of-type {\n",
              "        vertical-align: middle;\n",
              "    }\n",
              "\n",
              "    .dataframe tbody tr th {\n",
              "        vertical-align: top;\n",
              "    }\n",
              "\n",
              "    .dataframe thead th {\n",
              "        text-align: right;\n",
              "    }\n",
              "</style>\n",
              "<table border=\"1\" class=\"dataframe\">\n",
              "  <thead>\n",
              "    <tr style=\"text-align: right;\">\n",
              "      <th></th>\n",
              "      <th>principal component 1</th>\n",
              "      <th>principal component 2</th>\n",
              "      <th>principal component 3</th>\n",
              "      <th>principal component 4</th>\n",
              "      <th>principal component 5</th>\n",
              "    </tr>\n",
              "  </thead>\n",
              "  <tbody>\n",
              "    <tr>\n",
              "      <th>0</th>\n",
              "      <td>-14830.643464</td>\n",
              "      <td>12047.710186</td>\n",
              "      <td>1305.025716</td>\n",
              "      <td>-49.274240</td>\n",
              "      <td>-82.005372</td>\n",
              "    </tr>\n",
              "    <tr>\n",
              "      <th>1</th>\n",
              "      <td>-18705.001819</td>\n",
              "      <td>24935.042966</td>\n",
              "      <td>532.550589</td>\n",
              "      <td>-19.118926</td>\n",
              "      <td>20.211693</td>\n",
              "    </tr>\n",
              "    <tr>\n",
              "      <th>2</th>\n",
              "      <td>-37609.140777</td>\n",
              "      <td>38152.821468</td>\n",
              "      <td>-420.612960</td>\n",
              "      <td>-10.238476</td>\n",
              "      <td>-58.070363</td>\n",
              "    </tr>\n",
              "    <tr>\n",
              "      <th>3</th>\n",
              "      <td>-55781.553936</td>\n",
              "      <td>3123.791589</td>\n",
              "      <td>-296.744864</td>\n",
              "      <td>-6.033344</td>\n",
              "      <td>-93.987107</td>\n",
              "    </tr>\n",
              "    <tr>\n",
              "      <th>4</th>\n",
              "      <td>-57596.765852</td>\n",
              "      <td>-17299.762590</td>\n",
              "      <td>-669.911330</td>\n",
              "      <td>11.054607</td>\n",
              "      <td>5.435740</td>\n",
              "    </tr>\n",
              "  </tbody>\n",
              "</table>\n",
              "</div>"
            ],
            "text/plain": [
              "   principal component 1  principal component 2  principal component 3  \\\n",
              "0          -14830.643464           12047.710186            1305.025716   \n",
              "1          -18705.001819           24935.042966             532.550589   \n",
              "2          -37609.140777           38152.821468            -420.612960   \n",
              "3          -55781.553936            3123.791589            -296.744864   \n",
              "4          -57596.765852          -17299.762590            -669.911330   \n",
              "\n",
              "   principal component 4  principal component 5  \n",
              "0             -49.274240             -82.005372  \n",
              "1             -19.118926              20.211693  \n",
              "2             -10.238476             -58.070363  \n",
              "3              -6.033344             -93.987107  \n",
              "4              11.054607               5.435740  "
            ]
          },
          "metadata": {
            "tags": []
          },
          "execution_count": 42
        }
      ]
    },
    {
      "cell_type": "code",
      "metadata": {
        "id": "8rhqjWX81-7q",
        "colab_type": "code",
        "outputId": "13a3f34f-0d9a-4e1a-876f-58b072803b32",
        "colab": {
          "base_uri": "https://localhost:8080/",
          "height": 298
        }
      },
      "source": [
        "from imblearn.under_sampling import RandomUnderSampler\n",
        "\n",
        "rus = RandomUnderSampler(return_indices=True)\n",
        "rus_X, rus_y, rus_id = rus.fit_sample(df, y)\n",
        "\n",
        "print('Removed indexes:', id_rus)\n",
        "\n",
        "plot_2d_space(rus_X, rus_y, 'Random under-sampling')"
      ],
      "execution_count": 0,
      "outputs": [
        {
          "output_type": "stream",
          "text": [
            "Removed indexes: [ 65983    601 134042 ... 159588 159589 159591]\n"
          ],
          "name": "stdout"
        },
        {
          "output_type": "display_data",
          "data": {
            "image/png": "[encoded data removed]",
            "text/plain": [
              "<Figure size 432x288 with 1 Axes>"
            ]
          },
          "metadata": {
            "tags": []
          }
        }
      ]
    },
    {
      "cell_type": "code",
      "metadata": {
        "id": "ik9w5SYk2hmQ",
        "colab_type": "code",
        "colab": {}
      },
      "source": [
        "X_train2, X_test2, y_train2, y_test2 = train_test_split(rus_X, rus_y, test_size=0.3, random_state=5)"
      ],
      "execution_count": 0,
      "outputs": []
    },
    {
      "cell_type": "code",
      "metadata": {
        "id": "aCyXRnRR3txX",
        "colab_type": "code",
        "outputId": "6d7ca1f9-42af-4d2a-efe7-e40505f7cbd4",
        "colab": {
          "base_uri": "https://localhost:8080/",
          "height": 309
        }
      },
      "source": [
        "clf_rand = RandomizedSearchCV(estimator = clf, param_distributions = random_grid, n_iter = 4, cv = 3, verbose=2, random_state=5, n_jobs = -1)\n",
        "# Fit the random search model\n",
        "clf_rand.fit(X_train2,y_train2)"
      ],
      "execution_count": 0,
      "outputs": [
        {
          "output_type": "stream",
          "text": [
            "Fitting 3 folds for each of 4 candidates, totalling 12 fits\n"
          ],
          "name": "stdout"
        },
        {
          "output_type": "stream",
          "text": [
            "[Parallel(n_jobs=-1)]: Using backend LokyBackend with 2 concurrent workers.\n",
            "/usr/local/lib/python3.6/dist-packages/sklearn/externals/joblib/externals/loky/process_executor.py:706: UserWarning: A worker stopped while some jobs were given to the executor. This can be caused by a too short worker timeout or by a memory leak.\n",
            "  \"timeout or by a memory leak.\", UserWarning\n",
            "[Parallel(n_jobs=-1)]: Done  12 out of  12 | elapsed: 43.4min finished\n"
          ],
          "name": "stderr"
        },
        {
          "output_type": "execute_result",
          "data": {
            "text/plain": [
              "RandomizedSearchCV(cv=3, error_score='raise-deprecating',\n",
              "          estimator=RandomForestClassifier(bootstrap=True, class_weight=None, criterion='gini',\n",
              "            max_depth=None, max_features='auto', max_leaf_nodes=None,\n",
              "            min_impurity_decrease=0.0, min_impurity_split=None,\n",
              "            min_samples_leaf=1, min_samples_split=2,\n",
              "            min_weight_fraction_leaf=0.0, n_estimators='warn', n_jobs=None,\n",
              "            oob_score=False, random_state=5, verbose=0, warm_start=False),\n",
              "          fit_params=None, iid='warn', n_iter=4, n_jobs=-1,\n",
              "          param_distributions={'n_estimators': [200, 400, 600, 800, 1000, 1200, 1400, 1600, 1800, 2000], 'max_features': ['auto', 'sqrt'], 'max_depth': [10, 20, 30, 40, 50, 60, 70, 80, 90, 100, 110, None], 'min_samples_split': [2, 5, 10], 'min_samples_leaf': [1, 2, 4], 'bootstrap': [True, False]},\n",
              "          pre_dispatch='2*n_jobs', random_state=5, refit=True,\n",
              "          return_train_score='warn', scoring=None, verbose=2)"
            ]
          },
          "metadata": {
            "tags": []
          },
          "execution_count": 45
        }
      ]
    },
    {
      "cell_type": "code",
      "metadata": {
        "id": "s4VUeGjm-nmQ",
        "colab_type": "code",
        "outputId": "77157220-037c-48bb-a9d5-84e864576f7c",
        "colab": {
          "base_uri": "https://localhost:8080/",
          "height": 119
        }
      },
      "source": [
        "clf_rand.best_params_"
      ],
      "execution_count": 0,
      "outputs": [
        {
          "output_type": "execute_result",
          "data": {
            "text/plain": [
              "{'bootstrap': False,\n",
              " 'max_depth': 10,\n",
              " 'max_features': 'sqrt',\n",
              " 'min_samples_leaf': 1,\n",
              " 'min_samples_split': 2,\n",
              " 'n_estimators': 1000}"
            ]
          },
          "metadata": {
            "tags": []
          },
          "execution_count": 46
        }
      ]
    },
    {
      "cell_type": "code",
      "metadata": {
        "id": "ce_UFNMc-gCs",
        "colab_type": "code",
        "colab": {}
      },
      "source": [
        "best_clf = RandomForestClassifier(bootstrap= False,\n",
        " max_depth = 10,\n",
        " max_features = 'sqrt',\n",
        " min_samples_leaf = 1,\n",
        " min_samples_split = 2,\n",
        " n_estimators= 1000,\n",
        "  random_state =5)"
      ],
      "execution_count": 0,
      "outputs": []
    },
    {
      "cell_type": "code",
      "metadata": {
        "id": "zAuTygW52vnn",
        "colab_type": "code",
        "outputId": "127d5d25-caef-4dcb-d545-b1fc2b1f7fe0",
        "colab": {
          "base_uri": "https://localhost:8080/",
          "height": 119
        }
      },
      "source": [
        "best_clf.fit(X_train2, y_train2)"
      ],
      "execution_count": 0,
      "outputs": [
        {
          "output_type": "execute_result",
          "data": {
            "text/plain": [
              "RandomForestClassifier(bootstrap=False, class_weight=None, criterion='gini',\n",
              "            max_depth=10, max_features='sqrt', max_leaf_nodes=None,\n",
              "            min_impurity_decrease=0.0, min_impurity_split=None,\n",
              "            min_samples_leaf=1, min_samples_split=2,\n",
              "            min_weight_fraction_leaf=0.0, n_estimators=1000, n_jobs=None,\n",
              "            oob_score=False, random_state=5, verbose=0, warm_start=False)"
            ]
          },
          "metadata": {
            "tags": []
          },
          "execution_count": 80
        }
      ]
    },
    {
      "cell_type": "code",
      "metadata": {
        "id": "PzAsJQkc21Uu",
        "colab_type": "code",
        "colab": {}
      },
      "source": [
        "preds = clf_best.predict(X_test2)"
      ],
      "execution_count": 0,
      "outputs": []
    },
    {
      "cell_type": "code",
      "metadata": {
        "id": "chqwdrFa3Baf",
        "colab_type": "code",
        "outputId": "bd81804f-c095-480b-f0ee-dffa5702dbcd",
        "colab": {
          "base_uri": "https://localhost:8080/",
          "height": 170
        }
      },
      "source": [
        "print(classification_report(y_test2,pred))"
      ],
      "execution_count": 0,
      "outputs": [
        {
          "output_type": "stream",
          "text": [
            "              precision    recall  f1-score   support\n",
            "\n",
            "           0       0.61      0.54      0.58     13311\n",
            "           1       0.59      0.66      0.62     13265\n",
            "\n",
            "   micro avg       0.60      0.60      0.60     26576\n",
            "   macro avg       0.60      0.60      0.60     26576\n",
            "weighted avg       0.60      0.60      0.60     26576\n",
            "\n"
          ],
          "name": "stdout"
        }
      ]
    },
    {
      "cell_type": "markdown",
      "metadata": {
        "id": "tXIaKVx2GEbc",
        "colab_type": "text"
      },
      "source": [
        "#As can be seen, the last model that was built for the PCA and RandomUnderSampling performed best. \n",
        "\n",
        "In fact, it even performed better than the Neural Network"
      ]
    },
    {
      "cell_type": "code",
      "metadata": {
        "id": "lGNBbzGiGWvZ",
        "colab_type": "code",
        "colab": {}
      },
      "source": [
        ""
      ],
      "execution_count": 0,
      "outputs": []
    },
    {
      "cell_type": "code",
      "metadata": {
        "id": "5SzyVgsk3Won",
        "colab_type": "code",
        "colab": {}
      },
      "source": [
        ""
      ],
      "execution_count": 0,
      "outputs": []
    }
  ]
}